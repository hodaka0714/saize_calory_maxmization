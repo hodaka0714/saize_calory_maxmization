{
 "cells": [
  {
   "cell_type": "markdown",
   "metadata": {},
   "source": [
    "ここで用いられているソースコードはhttps://github.com/Wildqat/Wildqat/blob/master/examples_ja/tutorial011_knapsack_with_integer_weights.ipynb\n",
    "を参考にして書いています。"
   ]
  },
  {
   "cell_type": "markdown",
   "metadata": {},
   "source": [
    "$H _ { A }$  \n",
    "$ \\displaystyle\n",
    "=A \\left\\{\n",
    "    -2 \\left( \\sum _ { i = 1 } ^ { W_{limit} } y_i \\right)\n",
    "    +\\left( \\sum _ { i = 1 } ^ { W_{limit} } y_i \\right) ^ { 2 }\n",
    "    +\\left( \\sum _ { i = 1 } ^ { W_{limit} } iy_i \\right) ^ { 2 }\n",
    "    -2 \\left( \\sum _ { i = 1 } ^ { W_{limit} } iy_i \\right) \\left( \\sum _ \\alpha w_\\alpha x_\\alpha \\right)\n",
    "    +\\left( \\sum _ \\alpha w_\\alpha x_\\alpha \\right) ^ 2 \\right\\}\n",
    "$\n",
    "\n",
    "$H_A$\n",
    "$\n",
    "= \\lambda \\Big(1 - \\sum_{n=1}^W y_n \\Big)^2 + \\mu \\Big(\\sum_{n=1}^W n y_n - \\sum_{i=1}^N w_i x_i \\Big)^2 \n",
    "$\n",
    "$\n",
    "= \\lambda \\Big[1 - 2 \\sum_{n=1}^W y_n +  \\Big(\\sum_{n=1}^W y_n\\Big)^2 \\Big] + \\mu \\Big[\\Big(\\sum_{n=1}^W ny_n\\Big)^2 -2\\Big(\\sum_{n=1}^W ny_n\\Big)\\Big(\\sum_{i=1}^N w_i x_i\\Big) +  \\Big(\\sum_{i=1}^N w_i x_i\\Big)^2 \\Big]\n",
    "$"
   ]
  },
  {
   "cell_type": "markdown",
   "metadata": {},
   "source": [
    "H_A &=& \\lambda \\Big(1 - \\sum_{n=1}^W y_n \\Big)^2 + \\mu \\Big(\\sum_{n=1}^W n y_n - \\sum_{i=1}^N w_i x_i \\Big)^2 \\nonumber \\\\\n",
    "&=& \\lambda \\Big[1 - 2 \\sum_{n=1}^W y_n +  \\Big(\\sum_{n=1}^W y_n\\Big)^2 \\Big]  \\nonumber \\\\\n",
    "&& + \\mu \\Big[\\Big(\\sum_{n=1}^W ny_n\\Big)^2 -2\\Big(\\sum_{n=1}^W ny_n\\Big)\\Big(\\sum_{i=1}^N w_i x_i\\Big) +  \\Big(\\sum_{i=1}^N w_i x_i\\Big)^2 \\Big] \\nonumber \\\\\n",
    "&=& \\lambda \\Big[1 - 2 \\sum_{n=1}^W y_n + \\Big(\\sum_{n=1}^W y_n^2 + \\sum_{1 \\leq n < m \\leq W} 2 y_n y_m \\Big) \\Big]  \\nonumber \\\\\n",
    "&& + \\mu\\Big[\\Big(\\sum_{n=1}^W n^2 y_n^2 + \\sum_{1 \\leq n < m \\leq W} 2 n m y_n y_m\\Big) \\nonumber \\\\\n",
    "&& -2\\Big(\\sum_{n=1}^W ny_n\\Big)\\Big(\\sum_{i=1}^N w_i x_i\\Big) +  \\Big(\\sum_{i=1}^N w_{i}^2 x_{i}^2 + \\sum_{1 \\leq i<j \\leq N} 2w_i x_i w_j x_j \\Big) \\Big] \\nonumber \\\\\n",
    "&\\rightarrow& \\sum_{n=1}^W (\\mu n^2 - \\lambda) y_n^2 + \\sum_{1 \\leq n < m \\leq W} 2(\\lambda + \\mu nm) y_n y_m  \\nonumber \\\\\n",
    "&& + \\Big(\\sum_{n=1}^W \\sum_{i=1}^N (-2) \\mu n w_i y_n x_i\\Big) +  \\Big(\\sum_{i=1}^N \\mu w_{i}^2 x_{i}^2 + \\sum_{1 \\leq i<j \\leq N} 2 \\mu w_i w_j x_i x_j \\Big)   \\nonumber \\\\"
   ]
  },
  {
   "cell_type": "code",
   "execution_count": 124,
   "metadata": {},
   "outputs": [],
   "source": [
    "import numpy as np\n",
    "import pandas as pd\n",
    "import wildqat as wq"
   ]
  },
  {
   "cell_type": "code",
   "execution_count": 125,
   "metadata": {
    "scrolled": true
   },
   "outputs": [
    {
     "data": {
      "text/html": [
       "<div>\n",
       "<style scoped>\n",
       "    .dataframe tbody tr th:only-of-type {\n",
       "        vertical-align: middle;\n",
       "    }\n",
       "\n",
       "    .dataframe tbody tr th {\n",
       "        vertical-align: top;\n",
       "    }\n",
       "\n",
       "    .dataframe thead th {\n",
       "        text-align: right;\n",
       "    }\n",
       "</style>\n",
       "<table border=\"1\" class=\"dataframe\">\n",
       "  <thead>\n",
       "    <tr style=\"text-align: right;\">\n",
       "      <th></th>\n",
       "      <th>name</th>\n",
       "      <th>category</th>\n",
       "      <th>type</th>\n",
       "      <th>price</th>\n",
       "      <th>calorie</th>\n",
       "      <th>salt</th>\n",
       "    </tr>\n",
       "    <tr>\n",
       "      <th>id</th>\n",
       "      <th></th>\n",
       "      <th></th>\n",
       "      <th></th>\n",
       "      <th></th>\n",
       "      <th></th>\n",
       "      <th></th>\n",
       "    </tr>\n",
       "  </thead>\n",
       "  <tbody>\n",
       "    <tr>\n",
       "      <th>1</th>\n",
       "      <td>彩りガーデンサラダ</td>\n",
       "      <td>sidedish</td>\n",
       "      <td>salad</td>\n",
       "      <td>299</td>\n",
       "      <td>130</td>\n",
       "      <td>1.1</td>\n",
       "    </tr>\n",
       "    <tr>\n",
       "      <th>2</th>\n",
       "      <td>小エビのサラダ</td>\n",
       "      <td>sidedish</td>\n",
       "      <td>salad</td>\n",
       "      <td>349</td>\n",
       "      <td>115</td>\n",
       "      <td>1.3</td>\n",
       "    </tr>\n",
       "    <tr>\n",
       "      <th>3</th>\n",
       "      <td>やわらかチキンのサラダ</td>\n",
       "      <td>sidedish</td>\n",
       "      <td>salad</td>\n",
       "      <td>299</td>\n",
       "      <td>134</td>\n",
       "      <td>1.2</td>\n",
       "    </tr>\n",
       "    <tr>\n",
       "      <th>4</th>\n",
       "      <td>わかめサラダ</td>\n",
       "      <td>sidedish</td>\n",
       "      <td>salad</td>\n",
       "      <td>299</td>\n",
       "      <td>92</td>\n",
       "      <td>2.1</td>\n",
       "    </tr>\n",
       "    <tr>\n",
       "      <th>5</th>\n",
       "      <td>イタリアンサラダ</td>\n",
       "      <td>sidedish</td>\n",
       "      <td>salad</td>\n",
       "      <td>299</td>\n",
       "      <td>196</td>\n",
       "      <td>0.7</td>\n",
       "    </tr>\n",
       "  </tbody>\n",
       "</table>\n",
       "</div>"
      ],
      "text/plain": [
       "           name  category   type  price  calorie  salt\n",
       "id                                                    \n",
       "1     彩りガーデンサラダ  sidedish  salad    299      130   1.1\n",
       "2       小エビのサラダ  sidedish  salad    349      115   1.3\n",
       "3   やわらかチキンのサラダ  sidedish  salad    299      134   1.2\n",
       "4        わかめサラダ  sidedish  salad    299       92   2.1\n",
       "5      イタリアンサラダ  sidedish  salad    299      196   0.7"
      ]
     },
     "execution_count": 125,
     "metadata": {},
     "output_type": "execute_result"
    }
   ],
   "source": [
    "menu = pd.read_csv(\"~/Desktop/menu.csv\", index_col=0)\n",
    "menu.head()"
   ]
  },
  {
   "cell_type": "code",
   "execution_count": 126,
   "metadata": {},
   "outputs": [],
   "source": [
    "class Item():\n",
    "    def __init__(self, number, weight, cost):\n",
    "        self.__number = number\n",
    "        self.__name = name\n",
    "        self.__weight = weight\n",
    "        self.__cost = cost\n",
    "    \n",
    "    @property\n",
    "    def name(self):\n",
    "        return self.__name\n",
    "    \n",
    "    @property\n",
    "    def weight(self):\n",
    "        return self.__weight\n",
    "\n",
    "    @property\n",
    "    def cost(self):\n",
    "        return self.__cost\n",
    "\n",
    "    def __str__(self):\n",
    "        return f\"#{self.__number} (name : {self.name}, weight : {self.weight}, cost : {self.cost})\""
   ]
  },
  {
   "cell_type": "code",
   "execution_count": 127,
   "metadata": {},
   "outputs": [],
   "source": [
    "WEIGHT = 1000\n",
    "\n",
    "items = []\n",
    "for _id, _detail in menu.iterrows():\n",
    "    number = _id\n",
    "    name = _detail[\"name\"]\n",
    "    weight = _detail[\"price\"]\n",
    "    cost = _detail[\"calorie\"]\n",
    "    items.append(Item(number=number, weight=weight, cost=cost))"
   ]
  },
  {
   "cell_type": "code",
   "execution_count": 128,
   "metadata": {},
   "outputs": [],
   "source": [
    "def get_qubo(items, wlimit, A, B, C):\n",
    "    # qubo行列を作成\n",
    "    x_size = len(items)\n",
    "    y_size = wlimit\n",
    "    size = x_size + y_size\n",
    "    \n",
    "    # QUBO行列のx*x成分\n",
    "    x_qubo = np.zeros((x_size, x_size), dtype=int)\n",
    "    for i in range(x_size):\n",
    "        wi = items[i].weight\n",
    "        ci = items[i].cost\n",
    "        for j in range(i, x_size):\n",
    "            wj = items[j].weight\n",
    "            if i == j:\n",
    "                x_qubo[i][i] = A * wi*wi - B * ci\n",
    "            else:\n",
    "                x_qubo[i][j] = A * 2*wi*wj\n",
    "    \n",
    "    # QUBO行列のy*y成分\n",
    "    y_qubo = np.zeros((y_size, y_size), dtype=int)\n",
    "    for i in range(y_size):\n",
    "        for j in range(i, y_size):\n",
    "            if i == j:\n",
    "                y_qubo[i][i] = A*(i+1)*(i+1) - C\n",
    "            else:\n",
    "                y_qubo[i][j] = 2*(C + A*(i+1)*(j+1))\n",
    "                \n",
    "    # QUBO行列のx*y成分\n",
    "    xy_qubo = np.zeros((x_size, y_size), dtype=int)\n",
    "    for i in range(x_size):\n",
    "        wi = items[i].weight\n",
    "        for j in range(y_size):\n",
    "            xy_qubo[i][j] = -2*A*(j+1)*wi\n",
    "    \n",
    "    # QUBO行列のy*x成分\n",
    "    yx_qubo = np.zeros((y_size, x_size), dtype=int)\n",
    "    \n",
    "    # QUBO行列を接合する\n",
    "    upper_qubo = np.concatenate((x_qubo, xy_qubo), axis=1)\n",
    "    lower_qubo = np.concatenate((yx_qubo, y_qubo), axis=1)\n",
    "    qubo = np.concatenate((upper_qubo, lower_qubo), axis=0)\n",
    "    \n",
    "    return qubo\n"
   ]
  },
  {
   "cell_type": "code",
   "execution_count": 138,
   "metadata": {},
   "outputs": [],
   "source": [
    "annealer = wq.opt()"
   ]
  },
  {
   "cell_type": "code",
   "execution_count": 167,
   "metadata": {},
   "outputs": [],
   "source": [
    "annealer.qubo = get_qubo(items, wlimit=WEIGHT, A=1, B=300, C=5000000)\n",
    "#: Descreasing rate of temperature [SA]\n",
    "annealer.R = 0.999\n",
    "#: Iterations [SA]\n",
    "annealer.ite = 1000"
   ]
  },
  {
   "cell_type": "code",
   "execution_count": null,
   "metadata": {},
   "outputs": [],
   "source": [
    "times = 1\n",
    "for count in range(1, times+1):\n",
    "    q = annealer.sa()\n",
    "    \n",
    "    answers = []\n",
    "    weight = 0 \n",
    "    cost = 0\n",
    "    for i in range(len(items)):\n",
    "        if q[i] > 0:\n",
    "            answers.append(items[i])\n",
    "            weight += items[i].weight\n",
    "            cost += items[i].cost\n",
    "    \n",
    "    annealer.plot()\n",
    "    \n",
    "    print(f\"count : {count}\")\n",
    "    print(\"y=1の要素数は {}.\".format(sum(q[len(items):])))\n",
    "    for answer in answers:\n",
    "        print(f\"selected : {answer}\")\n",
    "    print(f\"total price : {weight}\")\n",
    "    print(f\"total kcal : {cost}\")\n",
    "    print(\"\")"
   ]
  },
  {
   "cell_type": "code",
   "execution_count": null,
   "metadata": {},
   "outputs": [],
   "source": []
  }
 ],
 "metadata": {
  "kernelspec": {
   "display_name": "Python 3",
   "language": "python",
   "name": "python3"
  },
  "language_info": {
   "codemirror_mode": {
    "name": "ipython",
    "version": 3
   },
   "file_extension": ".py",
   "mimetype": "text/x-python",
   "name": "python",
   "nbconvert_exporter": "python",
   "pygments_lexer": "ipython3",
   "version": "3.6.4"
  }
 },
 "nbformat": 4,
 "nbformat_minor": 2
}
