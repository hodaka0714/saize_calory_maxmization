{
 "cells": [
  {
   "cell_type": "markdown",
   "metadata": {},
   "source": [
    "ここで用いられているソースコードは\n",
    "https://github.com/Wildqat/Wildqat/blob/master/examples_ja/tutorial011_knapsack_with_integer_weights.ipynb\n",
    "を参考にしています。"
   ]
  },
  {
   "cell_type": "markdown",
   "metadata": {},
   "source": [
    "# ライブラリのimport "
   ]
  },
  {
   "cell_type": "code",
   "execution_count": 1,
   "metadata": {},
   "outputs": [],
   "source": [
    "import numpy as np\n",
    "import pandas as pd\n",
    "import wildqat as wq"
   ]
  },
  {
   "cell_type": "markdown",
   "metadata": {},
   "source": [
    "# データの読み込み\n",
    "データは\n",
    "https://github.com/marushosummers/Saizeriya_1000yen/blob/master/sensai/saizeriya.db\n",
    "をcsvに変換したものを使っています。"
   ]
  },
  {
   "cell_type": "code",
   "execution_count": 2,
   "metadata": {
    "scrolled": true
   },
   "outputs": [
    {
     "data": {
      "text/html": [
       "<div>\n",
       "<style scoped>\n",
       "    .dataframe tbody tr th:only-of-type {\n",
       "        vertical-align: middle;\n",
       "    }\n",
       "\n",
       "    .dataframe tbody tr th {\n",
       "        vertical-align: top;\n",
       "    }\n",
       "\n",
       "    .dataframe thead th {\n",
       "        text-align: right;\n",
       "    }\n",
       "</style>\n",
       "<table border=\"1\" class=\"dataframe\">\n",
       "  <thead>\n",
       "    <tr style=\"text-align: right;\">\n",
       "      <th></th>\n",
       "      <th>name</th>\n",
       "      <th>category</th>\n",
       "      <th>type</th>\n",
       "      <th>price</th>\n",
       "      <th>calorie</th>\n",
       "      <th>salt</th>\n",
       "    </tr>\n",
       "    <tr>\n",
       "      <th>id</th>\n",
       "      <th></th>\n",
       "      <th></th>\n",
       "      <th></th>\n",
       "      <th></th>\n",
       "      <th></th>\n",
       "      <th></th>\n",
       "    </tr>\n",
       "  </thead>\n",
       "  <tbody>\n",
       "    <tr>\n",
       "      <th>1</th>\n",
       "      <td>彩りガーデンサラダ</td>\n",
       "      <td>sidedish</td>\n",
       "      <td>salad</td>\n",
       "      <td>299</td>\n",
       "      <td>130</td>\n",
       "      <td>1.1</td>\n",
       "    </tr>\n",
       "    <tr>\n",
       "      <th>2</th>\n",
       "      <td>小エビのサラダ</td>\n",
       "      <td>sidedish</td>\n",
       "      <td>salad</td>\n",
       "      <td>349</td>\n",
       "      <td>115</td>\n",
       "      <td>1.3</td>\n",
       "    </tr>\n",
       "    <tr>\n",
       "      <th>3</th>\n",
       "      <td>やわらかチキンのサラダ</td>\n",
       "      <td>sidedish</td>\n",
       "      <td>salad</td>\n",
       "      <td>299</td>\n",
       "      <td>134</td>\n",
       "      <td>1.2</td>\n",
       "    </tr>\n",
       "  </tbody>\n",
       "</table>\n",
       "</div>"
      ],
      "text/plain": [
       "           name  category   type  price  calorie  salt\n",
       "id                                                    \n",
       "1     彩りガーデンサラダ  sidedish  salad    299      130   1.1\n",
       "2       小エビのサラダ  sidedish  salad    349      115   1.3\n",
       "3   やわらかチキンのサラダ  sidedish  salad    299      134   1.2"
      ]
     },
     "execution_count": 2,
     "metadata": {},
     "output_type": "execute_result"
    }
   ],
   "source": [
    "menu = pd.read_csv(\"./menu.csv\", index_col=0)\n",
    "menu.head(3)"
   ]
  },
  {
   "cell_type": "markdown",
   "metadata": {},
   "source": [
    "# アイテムクラスの作成"
   ]
  },
  {
   "cell_type": "code",
   "execution_count": 3,
   "metadata": {},
   "outputs": [],
   "source": [
    "class Item():\n",
    "    def __init__(self, number, weight, cost):\n",
    "        self.__number = number\n",
    "        self.__name = name\n",
    "        self.__weight = weight\n",
    "        self.__cost = cost\n",
    "    \n",
    "    @property\n",
    "    def name(self):\n",
    "        return self.__name\n",
    "    \n",
    "    @property\n",
    "    def weight(self):\n",
    "        return self.__weight\n",
    "\n",
    "    @property\n",
    "    def cost(self):\n",
    "        return self.__cost\n",
    "\n",
    "    def __str__(self):\n",
    "        return f\"#{self.__number} (name : {self.name}, weight : {self.weight}, cost : {self.cost})\""
   ]
  },
  {
   "cell_type": "markdown",
   "metadata": {},
   "source": [
    "# アイテムと重量制限の変数を定義"
   ]
  },
  {
   "cell_type": "code",
   "execution_count": 4,
   "metadata": {},
   "outputs": [],
   "source": [
    "WEIGHT = 1000\n",
    "\n",
    "items = []\n",
    "for _id, _detail in menu.iterrows():\n",
    "    number = _id\n",
    "    name = _detail[\"name\"]\n",
    "    weight = _detail[\"price\"]\n",
    "    cost = _detail[\"calorie\"]\n",
    "    items.append(Item(number=number, weight=weight, cost=cost))"
   ]
  },
  {
   "cell_type": "markdown",
   "metadata": {},
   "source": [
    "# ハミルトニアンの計算"
   ]
  },
  {
   "cell_type": "markdown",
   "metadata": {},
   "source": [
    "途中の計算式で用いている$\\rightarrow$はハミルトニアンから定数項を省いた場合や、ハミルトニアン全体を定数倍したときに用いています。"
   ]
  },
  {
   "cell_type": "markdown",
   "metadata": {},
   "source": [
    "## パターン1 (最も有名なナップザック問題のハミルトニアン)"
   ]
  },
  {
   "cell_type": "markdown",
   "metadata": {},
   "source": [
    "### $H_A$ について"
   ]
  },
  {
   "cell_type": "markdown",
   "metadata": {},
   "source": [
    "$H_A$\n",
    "$ \\displaystyle\n",
    "= \\lambda \\Big(1 - \\sum_{n=1}^W y_n \\Big)^2 + \\mu \\Big(\\sum_{n=1}^W n y_n - \\sum_{i=1}^N w_i x_i \\Big)^2 \n",
    "$\n",
    "$ \\displaystyle\n",
    "= \\lambda \\Big[1 - 2 \\sum_{n=1}^W y_n +  \\Big(\\sum_{n=1}^W y_n\\Big)^2 \\Big] + \\mu \\Big[\\Big(\\sum_{n=1}^W ny_n\\Big)^2 -2\\Big(\\sum_{n=1}^W ny_n\\Big)\\Big(\\sum_{i=1}^N w_i x_i\\Big) +  \\Big(\\sum_{i=1}^N w_i x_i\\Big)^2 \\Big]\n",
    "$\n",
    "$ \\displaystyle\n",
    "= \\lambda \\Big[1 - 2 \\sum_{n=1}^W y_n + \\Big(\\sum_{n=1}^W y_n^2 + \\sum_{1 \\leq n < m \\leq W} 2 y_n y_m \\Big) \\Big]   + \\mu\\Big[\\Big(\\sum_{n=1}^W n^2 y_n^2 + \\sum_{1 \\leq n < m \\leq W} 2 n m y_n y_m\\Big)  -2\\Big(\\sum_{n=1}^W ny_n\\Big)\\Big(\\sum_{i=1}^N w_i x_i\\Big) +  \\Big(\\sum_{i=1}^N w_{i}^2 x_{i}^2 + \\sum_{1 \\leq i<j \\leq N} 2w_i x_i w_j x_j \\Big) \\Big] \n",
    "$\n",
    "$ \\displaystyle\n",
    "\\rightarrow \\sum_{n=1}^W (\\mu n^2 - \\lambda) y_n^2 + \\sum_{1 \\leq n < m \\leq W} 2(\\lambda + \\mu nm) y_n y_m   + \\Big(\\sum_{n=1}^W \\sum_{i=1}^N (-2) \\mu n w_i y_n x_i\\Big) +  \\Big(\\sum_{i=1}^N \\mu w_{i}^2 x_{i}^2 + \\sum_{1 \\leq i<j \\leq N} 2 \\mu w_i w_j x_i x_j \\Big)\n",
    "$"
   ]
  },
  {
   "cell_type": "markdown",
   "metadata": {},
   "source": [
    "## $H_B$ について\n",
    "$H_B$\n",
    "$ \\displaystyle\n",
    "= - \\sigma \\sum_{i=1}^{N}c_{i} x_{i}\n",
    "$\n",
    "$ \\displaystyle\n",
    "= - \\sigma \\sum_{i=1}^{N}c_{i} x_{i}^2\n",
    "$"
   ]
  },
  {
   "cell_type": "markdown",
   "metadata": {},
   "source": [
    "## $H_A + H_B$\n",
    "\n",
    "$\n",
    "H = H_A + H_B\n",
    "$\n",
    "\n",
    "$ \\displaystyle\n",
    "= \\sum_{n=1}^W (\\mu n^2 - \\lambda) y_n^2 + \\sum_{1 \\leq n < m \\leq W} 2(\\lambda + \\mu nm) y_n y_m  + \\Big(\\sum_{n=1}^W \\sum_{i=1}^N (-2) \\mu n w_i y_n x_i\\Big) +  \\Big(\\sum_{i=1}^N \\mu w_{i}^2 x_{i}^2 + \\sum_{1 \\leq i<j \\leq N} 2 \\mu w_i w_j x_i x_j \\Big)  - \\sigma \\sum_{i=1}^{N}c_{i} x_{i}\n",
    "$\n",
    "$ \\displaystyle\n",
    "=  \\sum_{n=1}^W (\\mu n^2 - \\lambda) y_n^2 + \\sum_{1 \\leq n < m \\leq W} 2(\\lambda + \\mu nm) y_n y_m  + \\Big(\\sum_{n=1}^W \\sum_{i=1}^N (-2) \\mu n w_i y_n x_i\\Big) +  \\Big(\\sum_{i=1}^N  (\\mu w_{i}^2 - \\sigma c_{i}) x_{i}^2 + \\sum_{1 \\leq i<j \\leq N} 2 \\mu w_i w_j x_i x_j \\Big) \n",
    "$"
   ]
  },
  {
   "cell_type": "markdown",
   "metadata": {},
   "source": [
    "をプログラムで書く。"
   ]
  },
  {
   "cell_type": "code",
   "execution_count": 5,
   "metadata": {},
   "outputs": [],
   "source": [
    "def get_qubo(items, wlimit, lamda, mu, sigma):\n",
    "    # qubo行列を作成\n",
    "    x_size = len(items)\n",
    "    y_size = wlimit\n",
    "    size = x_size + y_size\n",
    "    \n",
    "    # QUBO行列のx*x成分\n",
    "    x_qubo = np.zeros((x_size, x_size), dtype=int)\n",
    "    for i in range(x_size):\n",
    "        wi = items[i].weight\n",
    "        ci = items[i].cost\n",
    "        for j in range(i, x_size):\n",
    "            wj = items[j].weight\n",
    "            if i == j:\n",
    "                x_qubo[i][i] = mu * wi*wi - sigma * ci\n",
    "            else:\n",
    "                x_qubo[i][j] = 2*mu*wi*wj\n",
    "    \n",
    "    # QUBO行列のy*y成分\n",
    "    y_qubo = np.zeros((y_size, y_size), dtype=int)\n",
    "    for i in range(y_size):\n",
    "        for j in range(i, y_size):\n",
    "            if i == j:\n",
    "                y_qubo[i][i] = mu*(i+1)*(i+1) - lamda\n",
    "            else:\n",
    "                y_qubo[i][j] = 2*(lamda + mu*(i+1)*(j+1))\n",
    "                \n",
    "    # QUBO行列のx*y成分\n",
    "    xy_qubo = np.zeros((x_size, y_size), dtype=int)\n",
    "    for i in range(x_size):\n",
    "        wi = items[i].weight\n",
    "        for j in range(y_size):\n",
    "            xy_qubo[i][j] = -2*mu*(j+1)*wi\n",
    "    \n",
    "    # QUBO行列のy*x成分\n",
    "    yx_qubo = np.zeros((y_size, x_size), dtype=int)\n",
    "    \n",
    "    # QUBO行列を接合する\n",
    "    upper_qubo = np.concatenate((x_qubo, xy_qubo), axis=1)\n",
    "    lower_qubo = np.concatenate((yx_qubo, y_qubo), axis=1)\n",
    "    qubo = np.concatenate((upper_qubo, lower_qubo), axis=0)\n",
    "    \n",
    "    return qubo\n"
   ]
  },
  {
   "cell_type": "markdown",
   "metadata": {},
   "source": [
    "## パターン2 (変数を減らし単純化してみた)"
   ]
  },
  {
   "cell_type": "markdown",
   "metadata": {},
   "source": [
    "$H_A$\n",
    "$ \\displaystyle\n",
    "= \\mu \\Big(W - \\sum_{i=1}^N w_i x_i \\Big)^2 \n",
    "$\n",
    "\n",
    "$ \\displaystyle\n",
    "= \\mu \\Big[W^2 -2W\\Big(\\sum_{i=1}^N w_i x_i\\Big) +  \\Big(\\sum_{i=1}^N w_i x_i\\Big)^2 \\Big]\n",
    "$\n",
    "\n",
    "$ \\displaystyle\n",
    "= \\mu \\Big[W^2  - 2W\\Big(\\sum_{i=1}^N w_i x_i\\Big) +  \\Big(\\sum_{i=1}^N w_{i}^2 x_{i}^2 + \\sum_{1 \\leq i<j \\leq N} 2w_i x_i w_j x_j \\Big) \\Big] \n",
    "$\n",
    "\n",
    "$ \\displaystyle\n",
    "= \\mu \\Big[W^2 + \\Big(\\sum_{i=1}^N (- 2W) w_i x_i^2\\Big) +  \\Big(\\sum_{i=1}^N w_{i}^2 x_{i}^2 + \\sum_{1 \\leq i<j \\leq N} 2w_i x_i w_j x_j \\Big) \\Big] \n",
    "$\n",
    "\n",
    "$ \\displaystyle\n",
    "\\rightarrow \\Big(\\sum_{i=1}^N \\mu (w_{i}^2 - 2 W w_{i}) x_{i}^2 + \\sum_{1 \\leq i<j \\leq N} 2 \\mu w_i w_j x_i x_j \\Big)\n",
    "$"
   ]
  },
  {
   "cell_type": "markdown",
   "metadata": {},
   "source": [
    "$H_B$はパターン１と同じものを用います。"
   ]
  },
  {
   "cell_type": "code",
   "execution_count": 6,
   "metadata": {},
   "outputs": [],
   "source": [
    "def get_qubo2(items, wlimit, mu, sigma):\n",
    "    # qubo行列を作成\n",
    "    x_size = len(items)\n",
    "    \n",
    "    # QUBO行列のx*x成分\n",
    "    x_qubo = np.zeros((x_size, x_size), dtype=int)\n",
    "    for i in range(x_size):\n",
    "        wi = items[i].weight\n",
    "        ci = items[i].cost\n",
    "        for j in range(i, x_size):\n",
    "            wj = items[j].weight\n",
    "            if i == j:\n",
    "                x_qubo[i][i] = mu * ( wi*wi - 2 * wlimit * wi) - sigma * ci\n",
    "            else: \n",
    "                x_qubo[i][j] = 2*mu*wi*wj\n",
    "    return x_qubo"
   ]
  },
  {
   "cell_type": "markdown",
   "metadata": {},
   "source": [
    "## パターン3 (アイテム重量の変数の項をアレンジ)"
   ]
  },
  {
   "cell_type": "markdown",
   "metadata": {},
   "source": [
    "$H_A$\n",
    "$ \\displaystyle\n",
    "= \\lambda \\Big(W - \\sum_{n=1}^W n y_n \\Big)^2 + \\mu \\Big(\\sum_{n=1}^W n y_n - \\sum_{i=1}^N w_i x_i \\Big)^2 \n",
    "$\n",
    "$ \\displaystyle\n",
    "= \\lambda \\Big[W^2 - 2 W \\sum_{n=1}^W n y_n +  \\Big(\\sum_{n=1}^W n y_n\\Big)^2 \\Big] + \\mu \\Big[\\Big(\\sum_{n=1}^W ny_n\\Big)^2 -2\\Big(\\sum_{n=1}^W ny_n\\Big)\\Big(\\sum_{i=1}^N w_i x_i\\Big) +  \\Big(\\sum_{i=1}^N w_i x_i\\Big)^2 \\Big]\n",
    "$\n",
    "$ \\displaystyle\n",
    "= \\lambda \\Big[W^2 - 2W \\sum_{n=1}^W n y_n + \\Big(\\sum_{n=1}^W n^2 y_n^2 + \\sum_{1 \\leq n < m \\leq W} 2 n m y_n y_m\\Big) \\Big]   + \\mu\\Big[\\Big(\\sum_{n=1}^W n^2 y_n^2 + \\sum_{1 \\leq n < m \\leq W} 2 n m y_n y_m\\Big)  -2\\Big(\\sum_{n=1}^W ny_n\\Big)\\Big(\\sum_{i=1}^N w_i x_i\\Big) +  \\Big(\\sum_{i=1}^N w_{i}^2 x_{i}^2 + \\sum_{1 \\leq i<j \\leq N} 2w_i x_i w_j x_j \\Big) \\Big] \n",
    "$\n",
    "$ \\displaystyle\n",
    "= \\Big[\\lambda W^2 - 2\\lambda W \\sum_{n=1}^W n y_n + \\Big(\\sum_{n=1}^W \\lambda n^2 y_n^2 + \\sum_{1 \\leq n < m \\leq W} 2 \\lambda n m y_n y_m\\Big) \\Big] + \\Big[\\Big(\\sum_{n=1}^W \\mu n^2 y_n^2 + \\sum_{1 \\leq n < m \\leq W} 2 \\mu n m y_n y_m\\Big)  -2 \\mu \\Big(\\sum_{n=1}^W ny_n\\Big)\\Big(\\sum_{i=1}^N w_i x_i\\Big) +  \\Big(\\sum_{i=1}^N \\mu w_{i}^2 x_{i}^2 + \\sum_{1 \\leq i<j \\leq N} 2 \\mu w_i x_i w_j x_j \\Big) \\Big] \n",
    "$\n",
    "$ \\displaystyle\n",
    "\\rightarrow  \\Big[\\sum_{n=1}^W (- 2) \\lambda W n y_n + \\Big(\\sum_{n=1}^W \\lambda n^2 y_n^2 + \\sum_{1 \\leq n < m \\leq W} 2 \\lambda n m y_n y_m\\Big) \\Big] + \\Big[\\Big(\\sum_{n=1}^W \\mu n^2 y_n^2 + \\sum_{1 \\leq n < m \\leq W} 2 \\mu n m y_n y_m\\Big) + \\Big(\\sum_{n=1}^W \\sum_{i=1}^N (-2) \\mu n  w_i y_n x_i\\Big) +  \\Big(\\sum_{i=1}^N \\mu w_{i}^2 x_{i}^2 + \\sum_{1 \\leq i<j \\leq N} 2 \\mu w_i x_i w_j x_j \\Big) \\Big] \n",
    "$\n",
    "$ \\displaystyle\n",
    "=  \\Big[\\sum_{n=1}^W \\{(- 2) \\lambda W n + \\lambda n^2 + \\mu n^2 \\} y_n^2 + \\Big(\\sum_{1 \\leq n < m \\leq W} 2 (\\lambda + \\mu)n m y_n y_m\\Big) \\Big] + \\Big[\\Big(\\sum_{n=1}^W \\sum_{i=1}^N (-2) \\mu n  w_i y_n x_i\\Big) +  \\Big(\\sum_{i=1}^N \\mu w_{i}^2 x_{i}^2 + \\sum_{1 \\leq i<j \\leq N} 2 \\mu w_i w_j x_i x_j \\Big) \\Big] \n",
    "$"
   ]
  },
  {
   "cell_type": "markdown",
   "metadata": {},
   "source": [
    "$H_B$はパターン１と同じものを用います。"
   ]
  },
  {
   "cell_type": "code",
   "execution_count": 7,
   "metadata": {},
   "outputs": [],
   "source": [
    "def get_qubo3(items, wlimit, lamda, mu, sigma):\n",
    "    # qubo行列を作成\n",
    "    x_size = len(items)\n",
    "    y_size = wlimit\n",
    "    size = x_size + y_size\n",
    "    \n",
    "    # QUBO行列のx*x成分\n",
    "    x_qubo = np.zeros((x_size, x_size), dtype=int)\n",
    "    for i in range(x_size):\n",
    "        wi = items[i].weight\n",
    "        ci = items[i].cost\n",
    "        for j in range(i, x_size):\n",
    "            wj = items[j].weight\n",
    "            if i == j:\n",
    "                x_qubo[i][i] = mu * wi*wi - sigma * ci\n",
    "            else:\n",
    "                x_qubo[i][j] = 2*mu*wi*wj\n",
    "    \n",
    "    # QUBO行列のy*y成分\n",
    "    y_qubo = np.zeros((y_size, y_size), dtype=int)\n",
    "    for i in range(y_size):\n",
    "        for j in range(i, y_size):\n",
    "            if i == j:\n",
    "                y_qubo[i][i] = -2*lamda*wlimit*(i+1) + lamda*(i+1)**2 + mu*(i+1)**2\n",
    "            else:\n",
    "                y_qubo[i][j] = 2*(lamda+mu)*(i+1)*(j+1)\n",
    "                \n",
    "    # QUBO行列のx*y成分\n",
    "    xy_qubo = np.zeros((x_size, y_size), dtype=int)\n",
    "    for i in range(x_size):\n",
    "        wi = items[i].weight\n",
    "        for j in range(y_size):\n",
    "            xy_qubo[i][j] = -2*mu*(j+1)*wi\n",
    "    \n",
    "    # QUBO行列のy*x成分\n",
    "    yx_qubo = np.zeros((y_size, x_size), dtype=int)\n",
    "    \n",
    "    # QUBO行列を接合する\n",
    "    upper_qubo = np.concatenate((x_qubo, xy_qubo), axis=1)\n",
    "    lower_qubo = np.concatenate((yx_qubo, y_qubo), axis=1)\n",
    "    qubo = np.concatenate((upper_qubo, lower_qubo), axis=0)\n",
    "    \n",
    "    return qubo"
   ]
  },
  {
   "cell_type": "markdown",
   "metadata": {},
   "source": [
    "## パターン4 (パターン3に変数$y$の制約項を追加)"
   ]
  },
  {
   "cell_type": "markdown",
   "metadata": {},
   "source": [
    "$H_A$\n",
    "$ \\displaystyle\n",
    "= \\omega \\Big(1 - \\sum_{n=1}^W y_n \\Big)^2 + \\lambda \\Big(W - \\sum_{n=1}^W n y_n \\Big)^2 + \\mu \\Big(\\sum_{n=1}^W n y_n - \\sum_{i=1}^N w_i x_i \\Big)^2 \n",
    "$\n",
    "$ \\displaystyle\n",
    "= \\omega\\Big[1 - 2 \\sum_{n=1}^W y_n +  \\Big(\\sum_{n=1}^W y_n\\Big)^2 \\Big] + \\lambda \\Big[W^2 - 2 W \\sum_{n=1}^W n y_n +  \\Big(\\sum_{n=1}^W n y_n\\Big)^2 \\Big] + \\mu \\Big[\\Big(\\sum_{n=1}^W ny_n\\Big)^2 -2\\Big(\\sum_{n=1}^W ny_n\\Big)\\Big(\\sum_{i=1}^N w_i x_i\\Big) +  \\Big(\\sum_{i=1}^N w_i x_i\\Big)^2 \\Big]\n",
    "$\n",
    "$ \\displaystyle\n",
    "= \\omega\\Big[1 - 2 \\sum_{n=1}^W y_n + \\Big(\\sum_{n=1}^W y_n^2 + \\sum_{1 \\leq n < m \\leq W} 2 y_n y_m \\Big) \\Big] + \\lambda \\Big[W^2 - 2W \\sum_{n=1}^W n y_n + \\Big(\\sum_{n=1}^W n^2 y_n^2 + \\sum_{1 \\leq n < m \\leq W} 2 n m y_n y_m\\Big) \\Big]   + \\mu\\Big[\\Big(\\sum_{n=1}^W n^2 y_n^2 + \\sum_{1 \\leq n < m \\leq W} 2 n m y_n y_m\\Big)  -2\\Big(\\sum_{n=1}^W ny_n\\Big)\\Big(\\sum_{i=1}^N w_i x_i\\Big) +  \\Big(\\sum_{i=1}^N w_{i}^2 x_{i}^2 + \\sum_{1 \\leq i<j \\leq N} 2w_i x_i w_j x_j \\Big) \\Big] \n",
    "$\n",
    "$ \\displaystyle\n",
    "= \\Big[\\omega - 2 \\omega \\sum_{n=1}^W y_n + \\Big(\\sum_{n=1}^W \\omega y_n^2 + \\sum_{1 \\leq n < m \\leq W} 2 \\omega y_n y_m \\Big) \\Big] + \\Big[\\lambda W^2 - 2\\lambda W \\sum_{n=1}^W n y_n + \\Big(\\sum_{n=1}^W \\lambda n^2 y_n^2 + \\sum_{1 \\leq n < m \\leq W} 2 \\lambda n m y_n y_m\\Big) \\Big] + \\Big[\\Big(\\sum_{n=1}^W \\mu n^2 y_n^2 + \\sum_{1 \\leq n < m \\leq W} 2 \\mu n m y_n y_m\\Big)  -2 \\mu \\Big(\\sum_{n=1}^W ny_n\\Big)\\Big(\\sum_{i=1}^N w_i x_i\\Big) +  \\Big(\\sum_{i=1}^N \\mu w_{i}^2 x_{i}^2 + \\sum_{1 \\leq i<j \\leq N} 2 \\mu w_i x_i w_j x_j \\Big) \\Big] \n",
    "$\n",
    "$ \\displaystyle\n",
    "\\rightarrow \\Big[\\sum_{n=1}^W (- 2) \\omega y_n + \\Big(\\sum_{n=1}^W \\omega y_n^2 + \\sum_{1 \\leq n < m \\leq W} 2 \\omega y_n y_m \\Big) \\Big] + \\Big[\\sum_{n=1}^W (- 2) \\lambda W n y_n + \\Big(\\sum_{n=1}^W \\lambda n^2 y_n^2 + \\sum_{1 \\leq n < m \\leq W} 2 \\lambda n m y_n y_m\\Big) \\Big] + \\Big[\\Big(\\sum_{n=1}^W \\mu n^2 y_n^2 + \\sum_{1 \\leq n < m \\leq W} 2 \\mu n m y_n y_m\\Big) + \\Big(\\sum_{n=1}^W \\sum_{i=1}^N (-2) \\mu n  w_i y_n x_i\\Big) +  \\Big(\\sum_{i=1}^N \\mu w_{i}^2 x_{i}^2 + \\sum_{1 \\leq i<j \\leq N} 2 \\mu w_i x_i w_j x_j \\Big) \\Big] \n",
    "$\n",
    "$ \\displaystyle\n",
    "=  \\Big[\\sum_{n=1}^W \\{(- 2) \\lambda W n + \\lambda n^2 + \\mu n^2 - \\omega \\} y_n^2 + \\Big(\\sum_{1 \\leq n < m \\leq W} 2 ((\\lambda + \\mu)n m + \\omega)y_n y_m\\Big) \\Big] + \\Big[\\Big(\\sum_{n=1}^W \\sum_{i=1}^N (-2) \\mu n  w_i y_n x_i\\Big) +  \\Big(\\sum_{i=1}^N \\mu w_{i}^2 x_{i}^2 + \\sum_{1 \\leq i<j \\leq N} 2 \\mu w_i w_j x_i x_j \\Big) \\Big] \n",
    "$"
   ]
  },
  {
   "cell_type": "markdown",
   "metadata": {},
   "source": [
    "$H_B$はパターン１と同じものを用います。"
   ]
  },
  {
   "cell_type": "code",
   "execution_count": 8,
   "metadata": {},
   "outputs": [],
   "source": [
    "def get_qubo4(items, wlimit, omega, lamda, mu, sigma):\n",
    "    # qubo行列を作成\n",
    "    x_size = len(items)\n",
    "    y_size = wlimit\n",
    "    size = x_size + y_size\n",
    "    \n",
    "    # QUBO行列のx*x成分\n",
    "    x_qubo = np.zeros((x_size, x_size), dtype=int)\n",
    "    for i in range(x_size):\n",
    "        wi = items[i].weight\n",
    "        ci = items[i].cost\n",
    "        for j in range(i, x_size):\n",
    "            wj = items[j].weight\n",
    "            if i == j:\n",
    "                x_qubo[i][i] = mu * wi*wi - sigma * ci\n",
    "            else:\n",
    "                x_qubo[i][j] = 2*mu*wi*wj\n",
    "    \n",
    "    # QUBO行列のy*y成分\n",
    "    y_qubo = np.zeros((y_size, y_size), dtype=int)\n",
    "    for i in range(y_size):\n",
    "        for j in range(i, y_size):\n",
    "            if i == j:\n",
    "                y_qubo[i][i] = -2*lamda*wlimit*(i+1) + lamda*(i+1)**2 + mu*(i+1)**2 - omega\n",
    "            else:\n",
    "                y_qubo[i][j] = 2*((lamda+mu)*(i+1)*(j+1)+omega)\n",
    "                \n",
    "    # QUBO行列のx*y成分\n",
    "    xy_qubo = np.zeros((x_size, y_size), dtype=int)\n",
    "    for i in range(x_size):\n",
    "        wi = items[i].weight\n",
    "        for j in range(y_size):\n",
    "            xy_qubo[i][j] = -2*mu*(j+1)*wi\n",
    "    \n",
    "    # QUBO行列のy*x成分\n",
    "    yx_qubo = np.zeros((y_size, x_size), dtype=int)\n",
    "    \n",
    "    # QUBO行列を接合する\n",
    "    upper_qubo = np.concatenate((x_qubo, xy_qubo), axis=1)\n",
    "    lower_qubo = np.concatenate((yx_qubo, y_qubo), axis=1)\n",
    "    qubo = np.concatenate((upper_qubo, lower_qubo), axis=0)\n",
    "    \n",
    "    return qubo"
   ]
  },
  {
   "cell_type": "markdown",
   "metadata": {},
   "source": [
    "# 計算を実行し結果を表示する関数"
   ]
  },
  {
   "cell_type": "code",
   "execution_count": 9,
   "metadata": {},
   "outputs": [],
   "source": [
    "def run(annealer, times):\n",
    "    for count in range(1, times+1):\n",
    "        q = annealer.sa()\n",
    "\n",
    "        answers = []\n",
    "        weight = 0 \n",
    "        cost = 0\n",
    "        for i in range(len(items)):\n",
    "            if q[i] == 1:\n",
    "                answers.append(items[i])\n",
    "                weight += items[i].weight\n",
    "                cost += items[i].cost\n",
    "\n",
    "        # 計算過程を可視化する\n",
    "        # annealer.plot()\n",
    "\n",
    "        print(f\"count : {count}\")\n",
    "        print(\"y=1のindexは {}番目.\".format(list(np.nonzero(q[len(items):])[0])))\n",
    "        for answer in answers:\n",
    "            print(f\"selected : {answer}\")\n",
    "        print(f\"total price : {weight}\")\n",
    "        print(f\"total kcal : {cost}\")\n",
    "        print(\"\")"
   ]
  },
  {
   "cell_type": "markdown",
   "metadata": {},
   "source": [
    "# アニーラーの初期化と設定そして実行"
   ]
  },
  {
   "cell_type": "markdown",
   "metadata": {},
   "source": [
    "selected : は選ばれたメニューを表しています。weightが値段でcostがカロリー数を示しています。<br>\n",
    "total price : 総価格です<br>\n",
    "total kcal : 総カロリー数です。<br>"
   ]
  },
  {
   "cell_type": "markdown",
   "metadata": {},
   "source": [
    "## パターン１"
   ]
  },
  {
   "cell_type": "code",
   "execution_count": 10,
   "metadata": {
    "scrolled": true
   },
   "outputs": [
    {
     "name": "stdout",
     "output_type": "stream",
     "text": [
      "count : 1\n",
      "y=1のindexは [326]番目.\n",
      "selected : #25 (name : ポテトのグリル, weight : 199, cost : 366)\n",
      "selected : #28 (name : フォッカチオ, weight : 119, cost : 214)\n",
      "selected : #82 (name : ミラノ風ドリア, weight : 299, cost : 542)\n",
      "selected : #102 (name : ラージライス, weight : 219, cost : 454)\n",
      "total price : 836\n",
      "total kcal : 1576\n",
      "\n",
      "count : 2\n",
      "y=1のindexは [478]番目.\n",
      "selected : #28 (name : フォッカチオ, weight : 119, cost : 214)\n",
      "selected : #82 (name : ミラノ風ドリア, weight : 299, cost : 542)\n",
      "selected : #86 (name : エビとイカのドリア, weight : 499, cost : 624)\n",
      "total price : 917\n",
      "total kcal : 1380\n",
      "\n",
      "count : 3\n",
      "y=1のindexは [623]番目.\n",
      "selected : #28 (name : フォッカチオ, weight : 119, cost : 214)\n",
      "selected : #58 (name : ほうれん草のグラタン(季節限定), weight : 399, cost : 521)\n",
      "selected : #82 (name : ミラノ風ドリア, weight : 299, cost : 542)\n",
      "selected : #102 (name : ラージライス, weight : 219, cost : 454)\n",
      "total price : 1036\n",
      "total kcal : 1731\n",
      "\n",
      "count : 4\n",
      "y=1のindexは [372]番目.\n",
      "selected : #28 (name : フォッカチオ, weight : 119, cost : 214)\n",
      "selected : #63 (name : アーリオ・オーリオ, weight : 299, cost : 560)\n",
      "selected : #65 (name : タラコソースシシリー風, weight : 399, cost : 605)\n",
      "total price : 817\n",
      "total kcal : 1379\n",
      "\n",
      "count : 5\n",
      "y=1のindexは [689]番目.\n",
      "selected : #28 (name : フォッカチオ, weight : 119, cost : 214)\n",
      "selected : #63 (name : アーリオ・オーリオ, weight : 299, cost : 560)\n",
      "selected : #86 (name : エビとイカのドリア, weight : 499, cost : 624)\n",
      "selected : #102 (name : ラージライス, weight : 219, cost : 454)\n",
      "total price : 1136\n",
      "total kcal : 1852\n",
      "\n"
     ]
    }
   ],
   "source": [
    "annealer = wq.opt()\n",
    "annealer.qubo = get_qubo(items, wlimit=WEIGHT, lamda=100000000, mu=1, sigma=500)\n",
    "#: Descreasing rate of temperature [SA]\n",
    "annealer.R = 0.95\n",
    "#: Iterations [SA]\n",
    "annealer.ite = 1000\n",
    "run(annealer, 5)"
   ]
  },
  {
   "cell_type": "markdown",
   "metadata": {},
   "source": [
    "多くの論文で紹介されているハミルトニアンを用いて計算を行った。まずはじめに$\\lambda$を小さい値で設定した場合、total priceが大きくなり、選択されるメニューが大量になるという現象が起きたので、それを抑えるために極端に大きい値を係数に設定した。\n",
    "\n",
    "結果として、total priceが$y$に依存しているような振る舞いをしている。$y=1$である要素が小さいとき(例えば$y=1$が 10番目/1000要素 にあり、他が$y=0$のとき)、total priceの値も小さい値になる傾向があるように見える。逆も然り。\n",
    "\n",
    "個人的に試行錯誤をしたが結果的に↑↑の結果で落ち着いた。"
   ]
  },
  {
   "cell_type": "markdown",
   "metadata": {},
   "source": [
    "## パターン２"
   ]
  },
  {
   "cell_type": "code",
   "execution_count": 11,
   "metadata": {
    "scrolled": true
   },
   "outputs": [
    {
     "name": "stdout",
     "output_type": "stream",
     "text": [
      "count : 1\n",
      "y=1のindexは []番目.\n",
      "selected : #25 (name : ポテトのグリル, weight : 199, cost : 366)\n",
      "selected : #28 (name : フォッカチオ, weight : 119, cost : 214)\n",
      "selected : #63 (name : アーリオ・オーリオ, weight : 299, cost : 560)\n",
      "selected : #101 (name : ライス, weight : 169, cost : 303)\n",
      "selected : #102 (name : ラージライス, weight : 219, cost : 454)\n",
      "total price : 1005\n",
      "total kcal : 1897\n",
      "\n",
      "count : 2\n",
      "y=1のindexは []番目.\n",
      "selected : #53 (name : パンチェッタのピザ, weight : 399, cost : 646)\n",
      "selected : #63 (name : アーリオ・オーリオ, weight : 299, cost : 560)\n",
      "selected : #102 (name : ラージライス, weight : 219, cost : 454)\n",
      "total price : 917\n",
      "total kcal : 1660\n",
      "\n",
      "count : 3\n",
      "y=1のindexは []番目.\n",
      "selected : #25 (name : ポテトのグリル, weight : 199, cost : 366)\n",
      "selected : #54 (name : 野菜ときのこのピザ, weight : 399, cost : 610)\n",
      "selected : #61 (name : ミートソースボロニア風, weight : 399, cost : 582)\n",
      "total price : 997\n",
      "total kcal : 1558\n",
      "\n",
      "count : 4\n",
      "y=1のindexは []番目.\n",
      "selected : #25 (name : ポテトのグリル, weight : 199, cost : 366)\n",
      "selected : #28 (name : フォッカチオ, weight : 119, cost : 214)\n",
      "selected : #82 (name : ミラノ風ドリア, weight : 299, cost : 542)\n",
      "selected : #101 (name : ライス, weight : 169, cost : 303)\n",
      "selected : #102 (name : ラージライス, weight : 219, cost : 454)\n",
      "total price : 1005\n",
      "total kcal : 1879\n",
      "\n",
      "count : 5\n",
      "y=1のindexは []番目.\n",
      "selected : #53 (name : パンチェッタのピザ, weight : 399, cost : 646)\n",
      "selected : #63 (name : アーリオ・オーリオ, weight : 299, cost : 560)\n",
      "selected : #102 (name : ラージライス, weight : 219, cost : 454)\n",
      "total price : 917\n",
      "total kcal : 1660\n",
      "\n"
     ]
    }
   ],
   "source": [
    "annealer = wq.opt()\n",
    "annealer.qubo = get_qubo2(items, wlimit=500, mu=1, sigma=500)\n",
    "#: Descreasing rate of temperature [SA]\n",
    "annealer.R = 0.95\n",
    "#: Iterations [SA]\n",
    "annealer.ite = 1000\n",
    "run(annealer, 5)"
   ]
  },
  {
   "cell_type": "markdown",
   "metadata": {},
   "source": [
    "変数が多いことが計算が不安定になる原因なのではという仮説を立てて、変数$x$のみで構成されるハミルトニアンを定式化した。計算結果は制約(total priceが1000以下)を安定して満たしており、理想的な計算結果となった。\n",
    "\n",
    "しかし、パラメーターで重さを500と設定しており、本来の1000としなければならないことから、本来意図していなかったパラメータで結果的にうまく計算ができたというのが、正直なところです。"
   ]
  },
  {
   "cell_type": "markdown",
   "metadata": {},
   "source": [
    "## パターン３"
   ]
  },
  {
   "cell_type": "code",
   "execution_count": 12,
   "metadata": {
    "scrolled": true
   },
   "outputs": [
    {
     "name": "stdout",
     "output_type": "stream",
     "text": [
      "count : 1\n",
      "y=1のindexは [32, 40, 96, 249, 480]番目.\n",
      "selected : #16 (name : アスパラガスのオーブン焼き(季節限定), weight : 299, cost : 221)\n",
      "selected : #63 (name : アーリオ・オーリオ, weight : 299, cost : 560)\n",
      "selected : #109 (name : ミルクアイスのせシナモンフォッカチオ, weight : 319, cost : 346)\n",
      "total price : 917\n",
      "total kcal : 1127\n",
      "\n",
      "count : 2\n",
      "y=1のindexは [188, 756]番目.\n",
      "selected : #78 (name : イカの墨入りスパゲッティ(Wサイズ), weight : 976, cost : 1220)\n",
      "total price : 976\n",
      "total kcal : 1220\n",
      "\n",
      "count : 3\n",
      "y=1のindexは [50, 225, 636]番目.\n",
      "selected : #25 (name : ポテトのグリル, weight : 199, cost : 366)\n",
      "selected : #26 (name : セロリのピクルス(季節限定), weight : 199, cost : 52)\n",
      "selected : #56 (name : バッファローモッツァレラのピザ, weight : 499, cost : 575)\n",
      "total price : 897\n",
      "total kcal : 993\n",
      "\n",
      "count : 4\n",
      "y=1のindexは [79, 852]番目.\n",
      "selected : #33 (name : デカンタ・500ml, weight : 399, cost : 0)\n",
      "selected : #90 (name : 半熟卵のハヤシ＆ターメリックライス, weight : 568, cost : 728)\n",
      "total price : 967\n",
      "total kcal : 728\n",
      "\n",
      "count : 5\n",
      "y=1のindexは [190, 792]番目.\n",
      "selected : #8 (name : コーンクリームスープ, weight : 149, cost : 142)\n",
      "selected : #74 (name : キャベツのペペロンチーノ(Wサイズ), weight : 770, cost : 1372)\n",
      "selected : #103 (name : スモールライス, weight : 119, cost : 151)\n",
      "total price : 1038\n",
      "total kcal : 1665\n",
      "\n"
     ]
    }
   ],
   "source": [
    "annealer = wq.opt()\n",
    "annealer.qubo = get_qubo3(items, wlimit=900, lamda=1000000, mu=10, sigma=1)\n",
    "#: Descreasing rate of temperature [SA]\n",
    "annealer.R = 0.95\n",
    "#: Iterations [SA]\n",
    "annealer.ite = 1000\n",
    "run(annealer, 5)"
   ]
  },
  {
   "cell_type": "markdown",
   "metadata": {},
   "source": [
    "パターン３ではパタメータの数が少ないからか、total priceに重みをつけるとtotal kcalが上がらず、total kcalに重みをつけるとtotal priceにブレが生まれてしまうといった問題が生じました。"
   ]
  },
  {
   "cell_type": "markdown",
   "metadata": {},
   "source": [
    "## パターン４"
   ]
  },
  {
   "cell_type": "code",
   "execution_count": 13,
   "metadata": {
    "scrolled": true
   },
   "outputs": [
    {
     "name": "stdout",
     "output_type": "stream",
     "text": [
      "count : 1\n",
      "y=1のindexは [365]番目.\n",
      "selected : #91 (name : ミックスグリル, weight : 599, cost : 823)\n",
      "selected : #102 (name : ラージライス, weight : 219, cost : 454)\n",
      "total price : 818\n",
      "total kcal : 1277\n",
      "\n",
      "count : 2\n",
      "y=1のindexは [636]番目.\n",
      "selected : #28 (name : フォッカチオ, weight : 119, cost : 214)\n",
      "selected : #91 (name : ミックスグリル, weight : 599, cost : 823)\n",
      "selected : #101 (name : ライス, weight : 169, cost : 303)\n",
      "selected : #102 (name : ラージライス, weight : 219, cost : 454)\n",
      "total price : 1106\n",
      "total kcal : 1794\n",
      "\n",
      "count : 3\n",
      "y=1のindexは [531]番目.\n",
      "selected : #86 (name : エビとイカのドリア, weight : 499, cost : 624)\n",
      "selected : #95 (name : イタリアンハンバーグ, weight : 499, cost : 633)\n",
      "total price : 998\n",
      "total kcal : 1257\n",
      "\n",
      "count : 4\n",
      "y=1のindexは [597]番目.\n",
      "selected : #25 (name : ポテトのグリル, weight : 199, cost : 366)\n",
      "selected : #73 (name : アーリオ・オーリオ(Wサイズ), weight : 574, cost : 1120)\n",
      "selected : #102 (name : ラージライス, weight : 219, cost : 454)\n",
      "total price : 992\n",
      "total kcal : 1940\n",
      "\n",
      "count : 5\n",
      "y=1のindexは [606]番目.\n",
      "selected : #28 (name : フォッカチオ, weight : 119, cost : 214)\n",
      "selected : #79 (name : カルボナーラ(Wサイズ), weight : 976, cost : 1730)\n",
      "total price : 1095\n",
      "total kcal : 1944\n",
      "\n"
     ]
    }
   ],
   "source": [
    "annealer = wq.opt()\n",
    "annealer.qubo = get_qubo4(items, wlimit=900, omega=100000000, lamda=200, mu=1, sigma=500)\n",
    "#: Descreasing rate of temperature [SA]\n",
    "annealer.R = 0.95\n",
    "#: Iterations [SA]\n",
    "annealer.ite = 1000\n",
    "run(annealer, 5)"
   ]
  },
  {
   "cell_type": "markdown",
   "metadata": {},
   "source": [
    "ここではtotal priceにブレがあるものの、total kcalではtotal priceの中でtotal kcalを最大化する組み合わせを出力しているように思います。"
   ]
  }
 ],
 "metadata": {
  "kernelspec": {
   "display_name": "Python 3",
   "language": "python",
   "name": "python3"
  },
  "language_info": {
   "codemirror_mode": {
    "name": "ipython",
    "version": 3
   },
   "file_extension": ".py",
   "mimetype": "text/x-python",
   "name": "python",
   "nbconvert_exporter": "python",
   "pygments_lexer": "ipython3",
   "version": "3.6.4"
  }
 },
 "nbformat": 4,
 "nbformat_minor": 2
}
